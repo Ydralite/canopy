{
 "cells": [
  {
   "cell_type": "markdown",
   "id": "30ab6c3f-e3a8-41f1-84ca-f14d1e9514ef",
   "metadata": {},
   "source": [
    "# Import"
   ]
  },
  {
   "cell_type": "code",
   "execution_count": 1,
   "id": "d0a04200-5c2a-4af5-8b83-17d708fef901",
   "metadata": {},
   "outputs": [],
   "source": [
    "# base stack\n",
    "import os\n",
    "import pickle\n",
    "import json\n",
    "import pandas as pd\n",
    "import matplotlib.pyplot as plt\n",
    "\n",
    "# custom made functions and Load environment variables from .env file\n",
    "from dotenv import load_dotenv\n",
    "import sys\n",
    "sys.path.insert(1, '..\\\\')\n",
    "from utils.funcs import JSONLoader\n",
    "from utils.funcs import JSONDocLoader\n",
    "from utils.funcs import show_ui\n",
    "from utils import metadata\n",
    "load_dotenv()\n",
    "\n",
    "#langchain stack \n",
    "## OpenAI + OpenAIEmbeddings\n",
    "from langchain_openai import OpenAI\n",
    "from langchain_openai import OpenAIEmbeddings\n",
    "from langchain_openai import ChatOpenAI\n",
    "## Vector Store\n",
    "from langchain_community.vectorstores import Chroma\n",
    "## Loader\n",
    "from langchain.text_splitter import CharacterTextSplitter\n",
    "from langchain_community.document_loaders import TextLoader\n",
    "## Retriever\n",
    "from langchain.retrievers.self_query.base import SelfQueryRetriever\n",
    "from langchain.prompts.example_selector import SemanticSimilarityExampleSelector\n",
    "from langchain.prompts.few_shot import FewShotPromptTemplate\n",
    "from langchain.prompts.prompt import PromptTemplate\n",
    "from langchain_openai import OpenAIEmbeddings\n",
    "\n",
    "# Retrieve the API key and instanciate client\n",
    "openai_api_key = os.getenv(\"OPENAI_API_KEY\")\n",
    "client = OpenAI(api_key = openai_api_key)\n",
    "\n",
    "# create the open-source embedding function\n",
    "embedding_function = OpenAIEmbeddings()"
   ]
  },
  {
   "cell_type": "code",
   "execution_count": 2,
   "id": "a4768a3d-b6e1-419f-af4b-d4cb6f179ed9",
   "metadata": {},
   "outputs": [],
   "source": [
    "PATH_HIERARCHIES = \"../hierarchies/\""
   ]
  },
  {
   "cell_type": "markdown",
   "id": "f3ca2930-9895-4ed6-bace-31597d95d7fa",
   "metadata": {},
   "source": [
    "# Load Data"
   ]
  },
  {
   "cell_type": "code",
   "execution_count": 58,
   "id": "e550f444-a78a-4c61-85aa-95d977e1c6b9",
   "metadata": {},
   "outputs": [],
   "source": [
    "# Load the list from a file using pickle\n",
    "with open('..\\output\\jsons_metadata.pkl', 'rb') as file:\n",
    "    jsons_meta = pickle.load(file)"
   ]
  },
  {
   "cell_type": "code",
   "execution_count": 18,
   "id": "f50fc859-ee73-461a-878d-74e78b1af833",
   "metadata": {},
   "outputs": [],
   "source": [
    "# Load the list from a file using pickle\n",
    "with open('..\\output\\json_list.pkl', 'rb') as file:\n",
    "    jsons = pickle.load(file)"
   ]
  },
  {
   "cell_type": "code",
   "execution_count": 5,
   "id": "11550f05-c1e2-4a89-ad42-ce1a2c0da36b",
   "metadata": {},
   "outputs": [],
   "source": [
    "# Load descriptions\n",
    "descriptions = pd.read_csv('../enrico/xui-caption.csv', sep='\\t')"
   ]
  },
  {
   "cell_type": "markdown",
   "id": "4c701b73-2b46-4cd1-93bb-55ffac6196df",
   "metadata": {},
   "source": [
    "# Generate Examples"
   ]
  },
  {
   "cell_type": "code",
   "execution_count": 8,
   "id": "7dcf7c10-e5a2-48c2-b09c-fe2223c12211",
   "metadata": {},
   "outputs": [],
   "source": [
    "# Load examples\n",
    "json_descriptive = []\n",
    "for item in jsons:\n",
    "    new_json = {key: item[key] \n",
    "                     for key in ['filename', 'topic']}\n",
    "    json_descriptive.append(new_json)\n",
    "\n",
    "pd_descriptive = pd.DataFrame.from_dict(json_descriptive)\n",
    "pd_descriptive.head()\n",
    "descriptions = pd.read_csv('../enrico/xui-caption.csv', sep='\\t')\n",
    "pd_descriptive['file'] = pd_descriptive['filename'].map(lambda x: int(x.replace('.json','')))\n",
    "file_caption = pd.merge(pd_descriptive, descriptions, left_on='file', right_on='image_id')"
   ]
  },
  {
   "cell_type": "code",
   "execution_count": 9,
   "id": "ff15601b-3df2-4a7f-9c46-fdcaa9a81d5e",
   "metadata": {},
   "outputs": [],
   "source": [
    "mask = file_caption['caption'].str.contains(r'unknown', na=True)\n",
    "relevant_captions = file_caption[~mask].copy()"
   ]
  },
  {
   "cell_type": "code",
   "execution_count": 49,
   "id": "8d8ef581-3451-47e8-9043-5643db8c62ba",
   "metadata": {},
   "outputs": [
    {
     "data": {
      "text/plain": [
       "'This screen must be a bare screen with a web view element placed at the bottom part of the screen.'"
      ]
     },
     "execution_count": 49,
     "metadata": {},
     "output_type": "execute_result"
    }
   ],
   "source": [
    "relevant_captions[relevant_captions['topic']=='bare']['caption'].values[0]"
   ]
  },
  {
   "cell_type": "code",
   "execution_count": 12,
   "id": "8a920356-dfbb-4283-a137-5de19f4b3bec",
   "metadata": {},
   "outputs": [],
   "source": [
    "examples = []\n",
    "for json_file in jsons:\n",
    "    if json_file['filename'] in (list(relevant_captions['filename'])):\n",
    "        mask = relevant_captions[relevant_captions['filename']==jsons[0]['filename']].index\n",
    "        examples.append({'question': relevant_captions.loc[mask,'caption'].values[0]\n",
    "                         , 'answer': str(json_file['content']).replace('{','«').replace('}','»')})"
   ]
  },
  {
   "cell_type": "markdown",
   "id": "c88f2a79-263e-4500-809a-26b4eacde375",
   "metadata": {},
   "source": [
    "# Set-up"
   ]
  },
  {
   "cell_type": "markdown",
   "id": "86659f86-0d80-4664-9fb1-4cf56bba9f6a",
   "metadata": {},
   "source": [
    "### Create Vector Store"
   ]
  },
  {
   "cell_type": "code",
   "execution_count": 78,
   "id": "154d8c9c-083b-44a0-8af8-d9cf2b5c5e80",
   "metadata": {},
   "outputs": [],
   "source": [
    "# load the document and split it into chunks\n",
    "json_dict = {'hierarchies':jsons}\n",
    "loader = JSONDocLoader(file=json_dict)\n",
    "documents = loader.load()\n",
    "\n",
    "# split it into chunks\n",
    "text_splitter = CharacterTextSplitter(chunk_size=4000, chunk_overlap=0)\n",
    "docs = text_splitter.split_documents(documents)\n",
    "\n",
    "## load it into Chroma\n",
    "db = Chroma.from_documents(docs, embedding_function, persist_directory=\"../chroma_db_chunkier\")"
   ]
  },
  {
   "cell_type": "markdown",
   "id": "9a9fc0e0-dee7-4803-b6e9-154157380c7a",
   "metadata": {},
   "source": [
    "### Load Vector Store"
   ]
  },
  {
   "cell_type": "code",
   "execution_count": 5,
   "id": "68b236c4-9cbb-47ce-bc0b-e1444f7aeeb9",
   "metadata": {},
   "outputs": [],
   "source": [
    "# load it into Chroma\n",
    "db = Chroma(persist_directory=\"../chroma_db_chunkier\", embedding_function=embedding_function)"
   ]
  },
  {
   "cell_type": "code",
   "execution_count": 117,
   "id": "926e029c-5660-4db1-9dc4-b9d5cdba5a2f",
   "metadata": {},
   "outputs": [],
   "source": [
    "# Load metadata\n",
    "metadata_field_info, document_content_description = metadata.info()\n",
    "\n",
    "# initiate retriever\n",
    "llm = ChatOpenAI(temperature=0.0)\n",
    "retriever = SelfQueryRetriever.from_llm(\n",
    "    llm,\n",
    "    db,\n",
    "    document_content_description,\n",
    "    metadata_field_info,\n",
    "    search_kwargs={\"k\": 20}\n",
    ")"
   ]
  },
  {
   "cell_type": "markdown",
   "id": "27c8cf7d-51b2-4d4f-a7a7-a9241b0fa0c9",
   "metadata": {},
   "source": [
    "# Generate View Hierarchy"
   ]
  },
  {
   "cell_type": "code",
   "execution_count": 36,
   "id": "c3b72b56-8bae-4f72-8abc-52caaff2ee53",
   "metadata": {},
   "outputs": [],
   "source": [
    "example_selector = SemanticSimilarityExampleSelector.from_examples(\n",
    "    # This is the list of examples available to select from.\n",
    "    examples,\n",
    "    # This is the embedding class used to produce embeddings which are used to measure semantic similarity.\n",
    "    OpenAIEmbeddings(),\n",
    "    # This is the VectorStore class that is used to store the embeddings and do a similarity search over.\n",
    "    Chroma,\n",
    "    # This is the number of examples to produce.\n",
    "    k=5,\n",
    ")\n",
    "\n",
    "example_prompt = PromptTemplate(\n",
    "    input_variables=[\"question\", \"answer\"], template=\"Question: {question}\\n{answer}\"\n",
    ")\n",
    "# Select the most similar example to the input.\n"
   ]
  },
  {
   "cell_type": "code",
   "execution_count": 48,
   "id": "90c204d9-c02e-4cc5-9873-792f20177730",
   "metadata": {
    "collapsed": true,
    "jupyter": {
     "outputs_hidden": true
    },
    "scrolled": true
   },
   "outputs": [
    {
     "name": "stdout",
     "output_type": "stream",
     "text": [
      "Examples most similar to the input: I want a screen that has no buttons but has a toolbar as the first section.\n",
      "\n",
      "\n",
      "answer: «'ancestors': ['android.widget.FrameLayout', 'android.view.ViewGroup', 'android.view.View', 'java.lang.Object'], 'class': 'com.android.internal.policy.PhoneWindow$DecorView', 'children': [«'children': [«'text': 'Sobriety Clock', 'ancestors': ['android.view.View', 'java.lang.Object'], 'class': 'android.widget.TextView', 'componentLabel': 'Text'», «'text': 'Setup Wizard (5/10)', 'ancestors': ['android.view.View', 'java.lang.Object'], 'class': 'android.widget.TextView', 'componentLabel': 'Text'», «'iconClass': 'more', 'ancestors': ['android.support.v7.internal.widget.TintImageView', 'android.widget.ImageView', 'android.view.View', 'java.lang.Object'], 'class': 'android.support.v7.widget.ActionMenuPresenter$OverflowMenuButton', 'componentLabel': 'Icon'»], 'ancestors': ['android.widget.FrameLayout', 'android.view.ViewGroup', 'android.view.View', 'java.lang.Object'], 'class': 'android.support.v7.internal.widget.ActionBarContainer', 'componentLabel': 'Toolbar'», «'text': 'Spiritual/Religious Preference', 'ancestors': ['android.widget.TextView', 'android.view.View', 'java.lang.Object'], 'class': 'android.support.v7.widget.AppCompatTextView', 'componentLabel': 'Text'», «'text': 'Customize the 12 Steps to your personal preferences. Do you refer to God, a Higher Power, or neither?', 'ancestors': ['android.widget.TextView', 'android.view.View', 'java.lang.Object'], 'class': 'android.support.v7.widget.AppCompatTextView', 'componentLabel': 'Text'», «'text': 'secular 12 steps', 'ancestors': ['android.widget.CheckedTextView', 'android.widget.TextView', 'android.view.View', 'java.lang.Object'], 'class': 'android.support.v7.widget.AppCompatCheckedTextView', 'componentLabel': 'Text'»]»\n",
      "question: This screenshot looks like a list screen with a text element placed at the center part.\n",
      "\n",
      "\n",
      "answer: «'ancestors': ['android.widget.FrameLayout', 'android.view.ViewGroup', 'android.view.View', 'java.lang.Object'], 'class': 'com.android.internal.policy.PhoneWindow$DecorView', 'children': [«'children': [«'text': 'Sobriety Clock', 'ancestors': ['android.view.View', 'java.lang.Object'], 'class': 'android.widget.TextView', 'componentLabel': 'Text'», «'text': 'Setup Wizard (5/10)', 'ancestors': ['android.view.View', 'java.lang.Object'], 'class': 'android.widget.TextView', 'componentLabel': 'Text'», «'iconClass': 'more', 'ancestors': ['android.support.v7.internal.widget.TintImageView', 'android.widget.ImageView', 'android.view.View', 'java.lang.Object'], 'class': 'android.support.v7.widget.ActionMenuPresenter$OverflowMenuButton', 'componentLabel': 'Icon'»], 'ancestors': ['android.widget.FrameLayout', 'android.view.ViewGroup', 'android.view.View', 'java.lang.Object'], 'class': 'android.support.v7.internal.widget.ActionBarContainer', 'componentLabel': 'Toolbar'», «'text': 'Spiritual/Religious Preference', 'ancestors': ['android.widget.TextView', 'android.view.View', 'java.lang.Object'], 'class': 'android.support.v7.widget.AppCompatTextView', 'componentLabel': 'Text'», «'text': 'Customize the 12 Steps to your personal preferences. Do you refer to God, a Higher Power, or neither?', 'ancestors': ['android.widget.TextView', 'android.view.View', 'java.lang.Object'], 'class': 'android.support.v7.widget.AppCompatTextView', 'componentLabel': 'Text'», «'text': 'secular 12 steps', 'ancestors': ['android.widget.CheckedTextView', 'android.widget.TextView', 'android.view.View', 'java.lang.Object'], 'class': 'android.support.v7.widget.AppCompatCheckedTextView', 'componentLabel': 'Text'»]»\n",
      "question: This screenshot looks like a list screen with a text element placed at the center part.\n",
      "\n",
      "\n",
      "answer: «'ancestors': ['android.widget.FrameLayout', 'android.view.ViewGroup', 'android.view.View', 'java.lang.Object'], 'class': 'com.android.internal.policy.PhoneWindow$DecorView', 'children': [«'children': [«'ancestors': ['android.view.ViewGroup', 'android.view.View', 'java.lang.Object'], 'class': 'android.widget.LinearLayout', 'componentLabel': 'Text Button', 'textButtonClass': 'popular'», «'iconClass': 'menu', 'ancestors': ['android.widget.ImageButton', 'android.widget.ImageView', 'android.view.View', 'java.lang.Object'], 'class': 'android.support.v7.widget.AppCompatImageButton', 'componentLabel': 'Icon'»], 'ancestors': ['android.view.ViewGroup', 'android.view.View', 'java.lang.Object'], 'class': 'android.support.v7.widget.Toolbar', 'componentLabel': 'Toolbar'», «'ancestors': ['android.view.ViewGroup', 'android.view.View', 'java.lang.Object'], 'class': 'android.widget.LinearLayout', 'componentLabel': 'Text Button', 'text': '1/8152'», «'ancestors': ['android.widget.ImageView', 'android.view.View', 'java.lang.Object'], 'class': 'android.support.v7.widget.AppCompatImageView', 'componentLabel': 'Image'», «'ancestors': ['android.widget.ImageView', 'android.view.View', 'java.lang.Object'], 'class': 'android.support.v7.widget.AppCompatImageView', 'componentLabel': 'Image'», «'ancestors': ['android.widget.ImageView', 'android.view.View', 'java.lang.Object'], 'class': 'android.support.v7.widget.AppCompatImageView', 'componentLabel': 'Image'», «'ancestors': ['android.widget.ImageView', 'android.view.View', 'java.lang.Object'], 'class': 'android.support.v7.widget.AppCompatImageView', 'componentLabel': 'Image'», «'ancestors': ['android.widget.ImageView', 'android.view.View', 'java.lang.Object'], 'class': 'android.support.v7.widget.AppCompatImageView', 'componentLabel': 'Image'», «'ancestors': ['android.widget.ImageView', 'android.view.View', 'java.lang.Object'], 'class': 'android.support.v7.widget.AppCompatImageView', 'componentLabel': 'Image'», «'ancestors': ['android.widget.ImageView', 'android.view.View', 'java.lang.Object'], 'class': 'android.support.v7.widget.AppCompatImageView', 'componentLabel': 'Image'», «'ancestors': ['android.widget.ImageView', 'android.view.View', 'java.lang.Object'], 'class': 'android.support.v7.widget.AppCompatImageView', 'componentLabel': 'Image'», «'ancestors': ['android.widget.ImageView', 'android.view.View', 'java.lang.Object'], 'class': 'android.support.v7.widget.AppCompatImageView', 'componentLabel': 'Image'»]»\n",
      "question: This screenshot looks like a list screen with a text element placed at the center part.\n",
      "\n",
      "\n",
      "answer: «'ancestors': ['android.widget.FrameLayout', 'android.view.ViewGroup', 'android.view.View', 'java.lang.Object'], 'class': 'com.android.internal.policy.PhoneWindow$DecorView', 'children': [«'children': [«'ancestors': ['android.view.ViewGroup', 'android.view.View', 'java.lang.Object'], 'class': 'android.widget.LinearLayout', 'componentLabel': 'Text Button', 'textButtonClass': 'popular'», «'iconClass': 'menu', 'ancestors': ['android.widget.ImageButton', 'android.widget.ImageView', 'android.view.View', 'java.lang.Object'], 'class': 'android.support.v7.widget.AppCompatImageButton', 'componentLabel': 'Icon'»], 'ancestors': ['android.view.ViewGroup', 'android.view.View', 'java.lang.Object'], 'class': 'android.support.v7.widget.Toolbar', 'componentLabel': 'Toolbar'», «'ancestors': ['android.view.ViewGroup', 'android.view.View', 'java.lang.Object'], 'class': 'android.widget.LinearLayout', 'componentLabel': 'Text Button', 'text': '1/8152'», «'ancestors': ['android.widget.ImageView', 'android.view.View', 'java.lang.Object'], 'class': 'android.support.v7.widget.AppCompatImageView', 'componentLabel': 'Image'», «'ancestors': ['android.widget.ImageView', 'android.view.View', 'java.lang.Object'], 'class': 'android.support.v7.widget.AppCompatImageView', 'componentLabel': 'Image'», «'ancestors': ['android.widget.ImageView', 'android.view.View', 'java.lang.Object'], 'class': 'android.support.v7.widget.AppCompatImageView', 'componentLabel': 'Image'», «'ancestors': ['android.widget.ImageView', 'android.view.View', 'java.lang.Object'], 'class': 'android.support.v7.widget.AppCompatImageView', 'componentLabel': 'Image'», «'ancestors': ['android.widget.ImageView', 'android.view.View', 'java.lang.Object'], 'class': 'android.support.v7.widget.AppCompatImageView', 'componentLabel': 'Image'», «'ancestors': ['android.widget.ImageView', 'android.view.View', 'java.lang.Object'], 'class': 'android.support.v7.widget.AppCompatImageView', 'componentLabel': 'Image'», «'ancestors': ['android.widget.ImageView', 'android.view.View', 'java.lang.Object'], 'class': 'android.support.v7.widget.AppCompatImageView', 'componentLabel': 'Image'», «'ancestors': ['android.widget.ImageView', 'android.view.View', 'java.lang.Object'], 'class': 'android.support.v7.widget.AppCompatImageView', 'componentLabel': 'Image'», «'ancestors': ['android.widget.ImageView', 'android.view.View', 'java.lang.Object'], 'class': 'android.support.v7.widget.AppCompatImageView', 'componentLabel': 'Image'»]»\n",
      "question: This screenshot looks like a list screen with a text element placed at the center part.\n",
      "\n",
      "\n",
      "answer: «'ancestors': ['android.widget.FrameLayout', 'android.view.ViewGroup', 'android.view.View', 'java.lang.Object'], 'class': 'com.android.internal.policy.PhoneWindow$DecorView', 'children': [«'text': 'Pick your language', 'ancestors': ['android.widget.TextView', 'android.view.View', 'java.lang.Object'], 'class': 'bitsie.playmee.musicplayer.free.ui.TypefaceTextView', 'componentLabel': 'Text'», «'text': 'Next', 'ancestors': ['android.widget.TextView', 'android.view.View', 'java.lang.Object'], 'class': 'bitsie.playmee.musicplayer.free.ui.TypefaceTextView', 'componentLabel': 'Text Button', 'textButtonClass': 'next'», «'children': [«'text': 'English', 'ancestors': ['android.widget.EditText', 'android.widget.TextView', 'android.view.View', 'java.lang.Object'], 'class': 'android.widget.NumberPicker$CustomEditText', 'componentLabel': 'Text Button', 'textButtonClass': 'english'»], 'ancestors': ['android.widget.LinearLayout', 'android.view.ViewGroup', 'android.view.View', 'java.lang.Object'], 'class': 'android.widget.NumberPicker', 'componentLabel': 'Number Stepper'»]»\n",
      "question: This screenshot looks like a list screen with a text element placed at the center part.\n"
     ]
    }
   ],
   "source": [
    "question = \"I want a screen that has no buttons but has a toolbar as the first section.\"\n",
    "selected_examples = example_selector.select_examples({\"question\": question})\n",
    "print(f\"Examples most similar to the input: {question}\")\n",
    "for example in selected_examples:\n",
    "    print(\"\\n\")\n",
    "    for k, v in example.items():\n",
    "        print(f\"{k}: {v}\")"
   ]
  },
  {
   "cell_type": "code",
   "execution_count": 64,
   "id": "f89c1853-0961-490d-b10d-19cf1aaf833b",
   "metadata": {},
   "outputs": [
    {
     "data": {
      "text/plain": [
       "'15321.json'"
      ]
     },
     "execution_count": 64,
     "metadata": {},
     "output_type": "execute_result"
    }
   ],
   "source": [
    "jsons_meta[examples.index(selected_examples[0])]['filename']"
   ]
  },
  {
   "cell_type": "code",
   "execution_count": 37,
   "id": "d97b5663-8cf8-4974-8bdc-c6fbbae9316e",
   "metadata": {},
   "outputs": [],
   "source": [
    "prompt = FewShotPromptTemplate(\n",
    "    example_selector=example_selector,\n",
    "    example_prompt=example_prompt,\n",
    "    suffix=\"Question: {input}\",\n",
    "    input_variables=[\"input\"],\n",
    ")\n",
    "\n",
    "result = prompt.format(input=\"I want a screen that has no buttons but has a toolbar as the first section\")"
   ]
  },
  {
   "cell_type": "code",
   "execution_count": 42,
   "id": "e4994b50-297c-49a0-bc50-0fb007fc9bad",
   "metadata": {},
   "outputs": [
    {
     "data": {
      "text/plain": [
       "{'ancestors': ['android.widget.FrameLayout',\n",
       "  'android.view.ViewGroup',\n",
       "  'android.view.View',\n",
       "  'java.lang.Object'],\n",
       " 'class': 'com.android.internal.policy.PhoneWindow$DecorView',\n",
       " 'children': [{'children': [{'text': 'Sobriety Clock',\n",
       "     'ancestors': ['android.view.View', 'java.lang.Object'],\n",
       "     'class': 'android.widget.TextView',\n",
       "     'componentLabel': 'Text'},\n",
       "    {'text': 'Setup Wizard (5/10)',\n",
       "     'ancestors': ['android.view.View', 'java.lang.Object'],\n",
       "     'class': 'android.widget.TextView',\n",
       "     'componentLabel': 'Text'},\n",
       "    {'iconClass': 'more',\n",
       "     'ancestors': ['android.support.v7.internal.widget.TintImageView',\n",
       "      'android.widget.ImageView',\n",
       "      'android.view.View',\n",
       "      'java.lang.Object'],\n",
       "     'class': 'android.support.v7.widget.ActionMenuPresenter$OverflowMenuButton',\n",
       "     'componentLabel': 'Icon'}],\n",
       "   'ancestors': ['android.widget.FrameLayout',\n",
       "    'android.view.ViewGroup',\n",
       "    'android.view.View',\n",
       "    'java.lang.Object'],\n",
       "   'class': 'android.support.v7.internal.widget.ActionBarContainer',\n",
       "   'componentLabel': 'Toolbar'},\n",
       "  {'text': 'Spiritual/Religious Preference',\n",
       "   'ancestors': ['android.widget.TextView',\n",
       "    'android.view.View',\n",
       "    'java.lang.Object'],\n",
       "   'class': 'android.support.v7.widget.AppCompatTextView',\n",
       "   'componentLabel': 'Text'},\n",
       "  {'text': 'Customize the 12 Steps to your personal preferences. Do you refer to God, a Higher Power, or neither?',\n",
       "   'ancestors': ['android.widget.TextView',\n",
       "    'android.view.View',\n",
       "    'java.lang.Object'],\n",
       "   'class': 'android.support.v7.widget.AppCompatTextView',\n",
       "   'componentLabel': 'Text'},\n",
       "  {'text': 'secular 12 steps',\n",
       "   'ancestors': ['android.widget.CheckedTextView',\n",
       "    'android.widget.TextView',\n",
       "    'android.view.View',\n",
       "    'java.lang.Object'],\n",
       "   'class': 'android.support.v7.widget.AppCompatCheckedTextView',\n",
       "   'componentLabel': 'Text'}]}"
      ]
     },
     "execution_count": 42,
     "metadata": {},
     "output_type": "execute_result"
    }
   ],
   "source": [
    "eval(result.split('\\n')[1].replace('«','{').replace('»','}'))"
   ]
  },
  {
   "cell_type": "code",
   "execution_count": 67,
   "id": "326e7502-ccd4-4d09-b91d-4045f63793ff",
   "metadata": {},
   "outputs": [
    {
     "data": {
      "image/png": "[encoded data removed]",
      "text/plain": [
       "<Figure size 500x1000 with 1 Axes>"
      ]
     },
     "metadata": {},
     "output_type": "display_data"
    }
   ],
   "source": [
    "# Load the list from a file using pickle\n",
    "file_name = jsons_meta[examples.index(selected_examples[0])]['filename']\n",
    "with open(f'../hierarchies/{file_name}', 'rb') as file:\n",
    "    json_data = json.load(file)\n",
    "show_ui(json_data)"
   ]
  },
  {
   "cell_type": "code",
   "execution_count": null,
   "id": "30dc8f6b-bc04-4f16-83bb-d3905b138055",
   "metadata": {},
   "outputs": [],
   "source": []
  }
 ],
 "metadata": {
  "kernelspec": {
   "display_name": "Python 3 (ipykernel)",
   "language": "python",
   "name": "python3"
  },
  "language_info": {
   "codemirror_mode": {
    "name": "ipython",
    "version": 3
   },
   "file_extension": ".py",
   "mimetype": "text/x-python",
   "name": "python",
   "nbconvert_exporter": "python",
   "pygments_lexer": "ipython3",
   "version": "3.10.7"
  }
 },
 "nbformat": 4,
 "nbformat_minor": 5
}
