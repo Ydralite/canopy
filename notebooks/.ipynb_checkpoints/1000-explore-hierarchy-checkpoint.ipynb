{
 "cells": [
  {
   "cell_type": "code",
   "execution_count": 1,
   "id": "866025a4-4096-476b-bb1e-0c7d2495bbaf",
   "metadata": {},
   "outputs": [],
   "source": [
    "!cd ../"
   ]
  },
  {
   "cell_type": "markdown",
   "id": "9db96b2f-0d4b-4013-8664-3fa764330877",
   "metadata": {},
   "source": [
    "# Imports & Environment Variables"
   ]
  },
  {
   "cell_type": "code",
   "execution_count": 2,
   "id": "3d409618-0450-438c-97a4-0247fda4f520",
   "metadata": {},
   "outputs": [],
   "source": [
    "import pandas as pd\n",
    "import json\n",
    "import os\n",
    "import matplotlib.pyplot as plt\n",
    "import pickle\n"
   ]
  },
  {
   "cell_type": "code",
   "execution_count": 3,
   "id": "36e805b1-189f-4e0a-9707-de9cd8d04f1c",
   "metadata": {},
   "outputs": [],
   "source": [
    "PATH_HIERARCHIES = \"../hierarchies/\""
   ]
  },
  {
   "cell_type": "markdown",
   "id": "3efeac22-e642-48ae-92f4-8894680d7f94",
   "metadata": {},
   "source": [
    "# Functions"
   ]
  },
  {
   "cell_type": "code",
   "execution_count": 4,
   "id": "4e106990-13c9-49d2-aebd-073dcc57ecb8",
   "metadata": {},
   "outputs": [],
   "source": [
    "def remove_keys(data, keys_to_remove):\n",
    "    if isinstance(data, dict):\n",
    "        # If the data is a dictionary, iterate through its keys\n",
    "        for key in list(data.keys()):\n",
    "            if key in keys_to_remove:\n",
    "                # Remove the key and its associated value\n",
    "                del data[key]\n",
    "            else:\n",
    "                # Recursively call the function for nested structures\n",
    "                remove_keys(data[key], keys_to_remove)\n",
    "    elif isinstance(data, list):\n",
    "        # If the data is a list, recursively call the function for each item in the list\n",
    "        for item in data:\n",
    "            remove_keys(item, keys_to_remove)\n",
    "\n",
    "# List of keys to remove\n",
    "keys_to_remove_list = ['resource-id', 'ancestors', 'clickable', 'class', 'bounds']"
   ]
  },
  {
   "cell_type": "code",
   "execution_count": 5,
   "id": "219c457a-232f-4d07-be91-1d9e0ea0102f",
   "metadata": {},
   "outputs": [],
   "source": [
    "def extract_keys(data, key_counts=None):\n",
    "    if key_counts is None:\n",
    "        key_counts = {}\n",
    "\n",
    "    if isinstance(data, dict):\n",
    "        for key, value in data.items():\n",
    "            # Increment the count for the key\n",
    "            key_counts[key] = key_counts.get(key, 0) + 1\n",
    "\n",
    "            # Recursively call the function for nested dictionaries\n",
    "            extract_keys(value, key_counts)\n",
    "    elif isinstance(data, list):\n",
    "        # Recursively call the function for each item in the list\n",
    "        for item in data:\n",
    "            extract_keys(item, key_counts)\n",
    "\n",
    "    return key_counts"
   ]
  },
  {
   "cell_type": "code",
   "execution_count": 66,
   "id": "fc550299-a2a3-40f4-8214-303ebc20a359",
   "metadata": {},
   "outputs": [],
   "source": [
    "def count_component_labels(data):\n",
    "    \"\"\"\n",
    "    Recursively counts the number of occurrences of each value for the key 'componentLabel' in a nested dictionary.\n",
    "    \"\"\"\n",
    "    counter = Counter()\n",
    "\n",
    "    if isinstance(data, dict):\n",
    "        if 'componentLabel' in data:\n",
    "            counter[data['componentLabel']] += 1\n",
    "\n",
    "        for key, value in data.items():\n",
    "            counter.update(count_component_labels(value))\n",
    "\n",
    "    elif isinstance(data, list):\n",
    "        for item in data:\n",
    "            counter.update(count_component_labels(item))\n",
    "\n",
    "    return counter"
   ]
  },
  {
   "cell_type": "markdown",
   "id": "5710b9ad-5ef9-40ba-94f9-c9eeef13bcc5",
   "metadata": {},
   "source": [
    "# Load json files"
   ]
  },
  {
   "cell_type": "code",
   "execution_count": 6,
   "id": "df1ccb8b-3d5c-4899-9c6e-5c73f661eecb",
   "metadata": {},
   "outputs": [
    {
     "name": "stdout",
     "output_type": "stream",
     "text": [
      "Total amount of files: 1460\n"
     ]
    }
   ],
   "source": [
    "# Initiate a list of json files\n",
    "json_list = []\n",
    "\n",
    "# Iterate through all files in the folder\n",
    "for filename in os.listdir(PATH_HIERARCHIES):\n",
    "    # Check if the file is a JSON file\n",
    "    if filename.endswith(\".json\"):\n",
    "        file_path = os.path.join(PATH_HIERARCHIES, filename)\n",
    "\n",
    "        # Open and read the JSON file\n",
    "        with open(file_path, 'r', encoding='utf-8') as file:\n",
    "            try:\n",
    "                json_data = json.load(file)\n",
    "                remove_keys(json_data, keys_to_remove_list)\n",
    "                json_list.append({'filename':filename,\n",
    "                                  'content':json_data})\n",
    "                # Process the JSON data as needed\n",
    "\n",
    "            except json.JSONDecodeError as e:\n",
    "                print(f\"Error decoding JSON in {filename}: {e}\")\n",
    "                \n",
    "print(f\"Total amount of files: {len(json_list)}\")"
   ]
  },
  {
   "cell_type": "code",
   "execution_count": 7,
   "id": "96a66f1b-d973-4620-84ac-25b4bf79d8bb",
   "metadata": {},
   "outputs": [],
   "source": [
    "# Save the list to a file using pickle\n",
    "with open('..\\output\\json_list.pkl', 'wb') as file:\n",
    "    pickle.dump(json_list, file)\n"
   ]
  },
  {
   "cell_type": "markdown",
   "id": "51cce76f-3a38-4d6a-baac-ae125766fff4",
   "metadata": {},
   "source": [
    "# Describe files"
   ]
  },
  {
   "cell_type": "code",
   "execution_count": 8,
   "id": "8bc97e53-4401-4c35-b4cf-3863a8b08cfc",
   "metadata": {
    "scrolled": true
   },
   "outputs": [],
   "source": [
    "for item in range(len(json_list)):\n",
    "    try:\n",
    "        json_list[item]['children_1'] = 0\n",
    "        json_list[item]['children_2'] = 0\n",
    "        json_list[item]['children_3'] = 0\n",
    "        json_list[item]['children_1']= len(json_list[item]['content']['children'])\n",
    "        for second_item in range(len(json_list[item]['content']['children'])):\n",
    "            try:\n",
    "                json_list[item]['children_2'] += len(json_list[item]['content']['children'][second_item]['children'])\n",
    "            except:\n",
    "                continue\n",
    "            for third_item in range(len(json_list[item]['content']['children'][second_item]['children'])):\n",
    "                try:\n",
    "                    json_list[item]['children_3'] += len(json_list[item]['content']['children'][second_item]['children'][third_item]['children'])\n",
    "                except:\n",
    "                    continue\n",
    "    except:\n",
    "        continue\n"
   ]
  },
  {
   "cell_type": "code",
   "execution_count": 9,
   "id": "6d3638b8-8f3d-460a-8618-2d1256a24e40",
   "metadata": {},
   "outputs": [],
   "source": [
    "json_descriptive = []\n",
    "for item in json_list:\n",
    "    new_json = {key: item[key] \n",
    "                     for key in ['filename', 'children_1', 'children_2', 'children_3']}\n",
    "    json_descriptive.append(new_json)\n"
   ]
  },
  {
   "cell_type": "code",
   "execution_count": 10,
   "id": "b343dc48-daa9-40a6-ae5d-3b76413a4b39",
   "metadata": {},
   "outputs": [
    {
     "data": {
      "text/html": [
       "<div>\n",
       "<style scoped>\n",
       "    .dataframe tbody tr th:only-of-type {\n",
       "        vertical-align: middle;\n",
       "    }\n",
       "\n",
       "    .dataframe tbody tr th {\n",
       "        vertical-align: top;\n",
       "    }\n",
       "\n",
       "    .dataframe thead th {\n",
       "        text-align: right;\n",
       "    }\n",
       "</style>\n",
       "<table border=\"1\" class=\"dataframe\">\n",
       "  <thead>\n",
       "    <tr style=\"text-align: right;\">\n",
       "      <th></th>\n",
       "      <th>filename</th>\n",
       "      <th>children_1</th>\n",
       "      <th>children_2</th>\n",
       "      <th>children_3</th>\n",
       "    </tr>\n",
       "  </thead>\n",
       "  <tbody>\n",
       "    <tr>\n",
       "      <th>0</th>\n",
       "      <td>10128.json</td>\n",
       "      <td>7</td>\n",
       "      <td>13</td>\n",
       "      <td>0</td>\n",
       "    </tr>\n",
       "    <tr>\n",
       "      <th>1</th>\n",
       "      <td>10180.json</td>\n",
       "      <td>4</td>\n",
       "      <td>6</td>\n",
       "      <td>6</td>\n",
       "    </tr>\n",
       "    <tr>\n",
       "      <th>2</th>\n",
       "      <td>10183.json</td>\n",
       "      <td>2</td>\n",
       "      <td>2</td>\n",
       "      <td>0</td>\n",
       "    </tr>\n",
       "    <tr>\n",
       "      <th>3</th>\n",
       "      <td>10208.json</td>\n",
       "      <td>11</td>\n",
       "      <td>0</td>\n",
       "      <td>0</td>\n",
       "    </tr>\n",
       "    <tr>\n",
       "      <th>4</th>\n",
       "      <td>10214.json</td>\n",
       "      <td>5</td>\n",
       "      <td>2</td>\n",
       "      <td>0</td>\n",
       "    </tr>\n",
       "  </tbody>\n",
       "</table>\n",
       "</div>"
      ],
      "text/plain": [
       "     filename  children_1  children_2  children_3\n",
       "0  10128.json           7          13           0\n",
       "1  10180.json           4           6           6\n",
       "2  10183.json           2           2           0\n",
       "3  10208.json          11           0           0\n",
       "4  10214.json           5           2           0"
      ]
     },
     "execution_count": 10,
     "metadata": {},
     "output_type": "execute_result"
    }
   ],
   "source": [
    "pd_descriptive = pd.DataFrame.from_dict(json_descriptive)\n",
    "pd_descriptive.head()"
   ]
  },
  {
   "cell_type": "code",
   "execution_count": 49,
   "id": "cb3c5e5d-460f-4e05-8766-f625c613b0bb",
   "metadata": {},
   "outputs": [],
   "source": [
    "x = pd_descriptive['children_1'].value_counts().sort_index().index\n",
    "y = pd_descriptive['children_1'].value_counts().sort_index().values"
   ]
  },
  {
   "cell_type": "code",
   "execution_count": 50,
   "id": "b7214d94-e790-4fb6-835e-53623872b4ca",
   "metadata": {},
   "outputs": [
    {
     "data": {
      "image/png": "[encoded data removed]",
      "text/plain": [
       "<Figure size 700x200 with 1 Axes>"
      ]
     },
     "metadata": {},
     "output_type": "display_data"
    }
   ],
   "source": [
    "from scipy.interpolate import make_interp_spline\n",
    "import numpy as np\n",
    "X_Y_Spline = make_interp_spline(x, y)\n",
    "X_ = np.linspace(x.min(), x.max(), 300)\n",
    "Y_ = X_Y_Spline(X_)\n",
    "fig, ax = plt.subplots(figsize = [7,2])\n",
    "# Plotting the Graph\n",
    "plt.plot(X_, Y_)\n",
    "plt.title(\"Depth 1 Sections\")\n",
    "plt.xlabel(\"No. of Sections\")\n",
    "plt.ylabel(\"No. of UIs\")\n",
    "plt.show()\n",
    "plt.show()"
   ]
  },
  {
   "cell_type": "code",
   "execution_count": 51,
   "id": "d596bcd3-c036-4124-9d4e-f47c8c627d9e",
   "metadata": {},
   "outputs": [
    {
     "data": {
      "image/png": "[encoded data removed]",
      "text/plain": [
       "<Figure size 700x200 with 1 Axes>"
      ]
     },
     "metadata": {},
     "output_type": "display_data"
    }
   ],
   "source": [
    "x = pd_descriptive['children_2'].value_counts().sort_index().index\n",
    "y = pd_descriptive['children_2'].value_counts().sort_index().values\n",
    "from scipy.interpolate import make_interp_spline\n",
    "import numpy as np\n",
    "X_Y_Spline = make_interp_spline(x, y)\n",
    "X_ = np.linspace(x.min(), x.max(), 400)\n",
    "Y_ = X_Y_Spline(X_)\n",
    "fig, ax = plt.subplots(figsize = [7,2])\n",
    "# Plotting the Graph\n",
    "plt.plot(X_, Y_)\n",
    "plt.xlim([-2,52])\n",
    "plt.title(\"Depth 2 Sections\")\n",
    "plt.xlabel(\"No. of Sections\")\n",
    "plt.ylabel(\"No. of UIs\")\n",
    "plt.show()\n",
    "plt.show()"
   ]
  },
  {
   "cell_type": "code",
   "execution_count": 52,
   "id": "5e373ff3-26f4-4061-ad0f-788aaaf8c878",
   "metadata": {},
   "outputs": [
    {
     "data": {
      "image/png": "[encoded data removed]",
      "text/plain": [
       "<Figure size 700x200 with 1 Axes>"
      ]
     },
     "metadata": {},
     "output_type": "display_data"
    }
   ],
   "source": [
    "x = pd_descriptive['children_3'].value_counts().sort_index().index\n",
    "y = pd_descriptive['children_3'].value_counts().sort_index().values\n",
    "from scipy.interpolate import make_interp_spline\n",
    "import numpy as np\n",
    "X_Y_Spline = make_interp_spline(x, y)\n",
    "X_ = np.linspace(x.min(), x.max(), 400)\n",
    "Y_ = X_Y_Spline(X_)\n",
    "fig, ax = plt.subplots(figsize = [7,2])\n",
    "# Plotting the Graph\n",
    "plt.plot(X_, Y_)\n",
    "plt.xlim([-2,52])\n",
    "plt.title(\"Depth 3 Sections\")\n",
    "plt.xlabel(\"No. of Sections\")\n",
    "plt.ylabel(\"No. of UIs\")\n",
    "plt.show()\n",
    "plt.show()"
   ]
  },
  {
   "cell_type": "code",
   "execution_count": 25,
   "id": "a8940dd8-92e6-4540-ab04-1dee5ee3ec1a",
   "metadata": {},
   "outputs": [
    {
     "name": "stdout",
     "output_type": "stream",
     "text": [
      "text: 14538 times\n",
      "componentLabel: 30204 times\n",
      "iconClass: 4136 times\n",
      "textButtonClass: 1279 times\n",
      "activity_name: 2 times\n",
      "activity: 2 times\n",
      "root: 2 times\n",
      "scrollable-horizontal: 306 times\n",
      "draw: 306 times\n",
      "pressed: 306 times\n",
      "focusable: 306 times\n",
      "long-clickable: 306 times\n",
      "enabled: 306 times\n",
      "visibility: 306 times\n",
      "content-desc: 306 times\n",
      "rel-bounds: 306 times\n",
      "focused: 306 times\n",
      "selected: 306 times\n",
      "scrollable-vertical: 306 times\n",
      "adapter-view: 306 times\n",
      "pointer: 306 times\n",
      "abs-pos: 306 times\n",
      "visible-to-user: 306 times\n",
      "package: 247 times\n",
      "font-family: 76 times\n",
      "added_fragments: 2 times\n",
      "active_fragments: 2 times\n",
      "is_keyboard_deployed: 2 times\n",
      "request_id: 2 times\n"
     ]
    }
   ],
   "source": [
    "from collections import Counter\n",
    "\n",
    "# Get all keys\n",
    "key_counts = extract_keys(json_list)\n",
    "\n",
    "# Display the results\n",
    "for key, count in key_counts.items():\n",
    "    if key not in ['filename', 'content', 'children','children_1', 'children_2', 'children_3']:\n",
    "        print(f\"{key}: {count} times\")"
   ]
  },
  {
   "cell_type": "code",
   "execution_count": 71,
   "id": "f6604e8d-b03b-452a-a87d-54caf8cb0b3f",
   "metadata": {},
   "outputs": [],
   "source": [
    "from collections import Counter\n",
    "\n",
    "# Get all keys\n",
    "key_counts = count_component_labels(json_list)"
   ]
  },
  {
   "cell_type": "code",
   "execution_count": 96,
   "id": "53c34b5e-5979-420a-b082-c90b8bc35ec0",
   "metadata": {},
   "outputs": [
    {
     "data": {
      "image/png": "[encoded data removed]",
      "text/plain": [
       "<Figure size 700x400 with 1 Axes>"
      ]
     },
     "metadata": {},
     "output_type": "display_data"
    }
   ],
   "source": [
    "fig, ax = plt.subplots(figsize = [7,4])\n",
    "pd.DataFrame(data = key_counts.values(), index = key_counts.keys(), columns = ['Counter']).sort_values('Counter', ascending = False).plot(kind='bar', legend=False, ax=ax)\n",
    "plt.xlabel('Component Label')\n",
    "plt.ylabel('Count')\n",
    "plt.title('Component Label Counts')\n",
    "plt.show()\n",
    "plt.show()"
   ]
  },
  {
   "cell_type": "markdown",
   "id": "4023afa6-27cc-4713-a309-fdcb87e7660a",
   "metadata": {},
   "source": [
    "# Additional Files"
   ]
  },
  {
   "cell_type": "code",
   "execution_count": 104,
   "id": "fc22de8c-76d7-478a-8aa3-c443b2ea90b1",
   "metadata": {},
   "outputs": [],
   "source": [
    "topics = pd.read_csv('../enrico/design_topics.csv', sep=',')"
   ]
  },
  {
   "cell_type": "code",
   "execution_count": 105,
   "id": "96de82a0-ce78-4f62-952d-7b32ace3eb44",
   "metadata": {},
   "outputs": [
    {
     "data": {
      "text/html": [
       "<div>\n",
       "<style scoped>\n",
       "    .dataframe tbody tr th:only-of-type {\n",
       "        vertical-align: middle;\n",
       "    }\n",
       "\n",
       "    .dataframe tbody tr th {\n",
       "        vertical-align: top;\n",
       "    }\n",
       "\n",
       "    .dataframe thead th {\n",
       "        text-align: right;\n",
       "    }\n",
       "</style>\n",
       "<table border=\"1\" class=\"dataframe\">\n",
       "  <thead>\n",
       "    <tr style=\"text-align: right;\">\n",
       "      <th></th>\n",
       "      <th>screen_id</th>\n",
       "      <th>topic</th>\n",
       "    </tr>\n",
       "  </thead>\n",
       "  <tbody>\n",
       "    <tr>\n",
       "      <th>0</th>\n",
       "      <td>50245</td>\n",
       "      <td>tutorial</td>\n",
       "    </tr>\n",
       "    <tr>\n",
       "      <th>1</th>\n",
       "      <td>320</td>\n",
       "      <td>list</td>\n",
       "    </tr>\n",
       "    <tr>\n",
       "      <th>2</th>\n",
       "      <td>39729</td>\n",
       "      <td>login</td>\n",
       "    </tr>\n",
       "    <tr>\n",
       "      <th>3</th>\n",
       "      <td>8555</td>\n",
       "      <td>form</td>\n",
       "    </tr>\n",
       "    <tr>\n",
       "      <th>4</th>\n",
       "      <td>39305</td>\n",
       "      <td>list</td>\n",
       "    </tr>\n",
       "    <tr>\n",
       "      <th>...</th>\n",
       "      <td>...</td>\n",
       "      <td>...</td>\n",
       "    </tr>\n",
       "    <tr>\n",
       "      <th>1455</th>\n",
       "      <td>40928</td>\n",
       "      <td>login</td>\n",
       "    </tr>\n",
       "    <tr>\n",
       "      <th>1456</th>\n",
       "      <td>51913</td>\n",
       "      <td>settings</td>\n",
       "    </tr>\n",
       "    <tr>\n",
       "      <th>1457</th>\n",
       "      <td>55307</td>\n",
       "      <td>login</td>\n",
       "    </tr>\n",
       "    <tr>\n",
       "      <th>1458</th>\n",
       "      <td>64417</td>\n",
       "      <td>mediaplayer</td>\n",
       "    </tr>\n",
       "    <tr>\n",
       "      <th>1459</th>\n",
       "      <td>69286</td>\n",
       "      <td>login</td>\n",
       "    </tr>\n",
       "  </tbody>\n",
       "</table>\n",
       "<p>1460 rows × 2 columns</p>\n",
       "</div>"
      ],
      "text/plain": [
       "      screen_id        topic\n",
       "0         50245     tutorial\n",
       "1           320         list\n",
       "2         39729        login\n",
       "3          8555         form\n",
       "4         39305         list\n",
       "...         ...          ...\n",
       "1455      40928        login\n",
       "1456      51913     settings\n",
       "1457      55307        login\n",
       "1458      64417  mediaplayer\n",
       "1459      69286        login\n",
       "\n",
       "[1460 rows x 2 columns]"
      ]
     },
     "execution_count": 105,
     "metadata": {},
     "output_type": "execute_result"
    }
   ],
   "source": [
    "topics"
   ]
  },
  {
   "cell_type": "code",
   "execution_count": null,
   "id": "d8ea6519-c862-4d5b-87a7-2ba7eb465b33",
   "metadata": {},
   "outputs": [],
   "source": [
    "descriptions = pd.read_csv('../enrico/xui-caption.csv', sep='\\t')"
   ]
  },
  {
   "cell_type": "code",
   "execution_count": 101,
   "id": "17e6ad55-c5d3-4832-a69f-dc59e0be0189",
   "metadata": {
    "scrolled": true
   },
   "outputs": [
    {
     "data": {
      "text/html": [
       "<div>\n",
       "<style scoped>\n",
       "    .dataframe tbody tr th:only-of-type {\n",
       "        vertical-align: middle;\n",
       "    }\n",
       "\n",
       "    .dataframe tbody tr th {\n",
       "        vertical-align: top;\n",
       "    }\n",
       "\n",
       "    .dataframe thead th {\n",
       "        text-align: right;\n",
       "    }\n",
       "</style>\n",
       "<table border=\"1\" class=\"dataframe\">\n",
       "  <thead>\n",
       "    <tr style=\"text-align: right;\">\n",
       "      <th></th>\n",
       "      <th>image_id</th>\n",
       "      <th>caption</th>\n",
       "    </tr>\n",
       "  </thead>\n",
       "  <tbody>\n",
       "    <tr>\n",
       "      <th>0</th>\n",
       "      <td>58658</td>\n",
       "      <td>The screen is a tutorial screen having a large text element located at the top part of the screen.</td>\n",
       "    </tr>\n",
       "    <tr>\n",
       "      <th>1</th>\n",
       "      <td>59376</td>\n",
       "      <td>A search app with a large background image ubicated at the center part.</td>\n",
       "    </tr>\n",
       "    <tr>\n",
       "      <th>2</th>\n",
       "      <td>23112</td>\n",
       "      <td>A gallery app with a large image element placed at the top-left part.</td>\n",
       "    </tr>\n",
       "    <tr>\n",
       "      <th>3</th>\n",
       "      <td>10693</td>\n",
       "      <td>This app is a gallery screen having an image situated at the top-left area of the screen.</td>\n",
       "    </tr>\n",
       "    <tr>\n",
       "      <th>4</th>\n",
       "      <td>13895</td>\n",
       "      <td>The app looks like a gallery app with an image component ubicated at the right area.</td>\n",
       "    </tr>\n",
       "    <tr>\n",
       "      <th>...</th>\n",
       "      <td>...</td>\n",
       "      <td>...</td>\n",
       "    </tr>\n",
       "    <tr>\n",
       "      <th>264</th>\n",
       "      <td>501</td>\n",
       "      <td>A modal app having a text button element placed at the center area.</td>\n",
       "    </tr>\n",
       "    <tr>\n",
       "      <th>265</th>\n",
       "      <td>60374</td>\n",
       "      <td>A tutorial app with an image component situated at the top part.</td>\n",
       "    </tr>\n",
       "    <tr>\n",
       "      <th>266</th>\n",
       "      <td>32938</td>\n",
       "      <td>A list app having a text located at the top part of the screen.</td>\n",
       "    </tr>\n",
       "    <tr>\n",
       "      <th>267</th>\n",
       "      <td>43186</td>\n",
       "      <td>A form screen having a large input element located at the top area.</td>\n",
       "    </tr>\n",
       "    <tr>\n",
       "      <th>268</th>\n",
       "      <td>54650</td>\n",
       "      <td>A settings app having a large text component located at the center part of the screen.</td>\n",
       "    </tr>\n",
       "  </tbody>\n",
       "</table>\n",
       "<p>269 rows × 2 columns</p>\n",
       "</div>"
      ],
      "text/plain": [
       "     image_id  \\\n",
       "0       58658   \n",
       "1       59376   \n",
       "2       23112   \n",
       "3       10693   \n",
       "4       13895   \n",
       "..        ...   \n",
       "264       501   \n",
       "265     60374   \n",
       "266     32938   \n",
       "267     43186   \n",
       "268     54650   \n",
       "\n",
       "                                                                                                caption  \n",
       "0    The screen is a tutorial screen having a large text element located at the top part of the screen.  \n",
       "1                               A search app with a large background image ubicated at the center part.  \n",
       "2                                 A gallery app with a large image element placed at the top-left part.  \n",
       "3             This app is a gallery screen having an image situated at the top-left area of the screen.  \n",
       "4                  The app looks like a gallery app with an image component ubicated at the right area.  \n",
       "..                                                                                                  ...  \n",
       "264                                 A modal app having a text button element placed at the center area.  \n",
       "265                                    A tutorial app with an image component situated at the top part.  \n",
       "266                                     A list app having a text located at the top part of the screen.  \n",
       "267                                 A form screen having a large input element located at the top area.  \n",
       "268              A settings app having a large text component located at the center part of the screen.  \n",
       "\n",
       "[269 rows x 2 columns]"
      ]
     },
     "execution_count": 101,
     "metadata": {},
     "output_type": "execute_result"
    }
   ],
   "source": [
    "pd.set_option('display.max_colwidth', None)\n",
    "descriptions"
   ]
  },
  {
   "cell_type": "code",
   "execution_count": 212,
   "id": "ac2f2661-901f-4481-a185-e9211592dc2c",
   "metadata": {},
   "outputs": [],
   "source": [
    "pd_descriptive['file'] = pd_descriptive['filename'].map(lambda x: int(x.replace('.json','')))"
   ]
  },
  {
   "cell_type": "code",
   "execution_count": 216,
   "id": "4f781e40-f41e-4d60-a4fc-437710c8f5e8",
   "metadata": {},
   "outputs": [
    {
     "data": {
      "text/html": [
       "<div>\n",
       "<style scoped>\n",
       "    .dataframe tbody tr th:only-of-type {\n",
       "        vertical-align: middle;\n",
       "    }\n",
       "\n",
       "    .dataframe tbody tr th {\n",
       "        vertical-align: top;\n",
       "    }\n",
       "\n",
       "    .dataframe thead th {\n",
       "        text-align: right;\n",
       "    }\n",
       "</style>\n",
       "<table border=\"1\" class=\"dataframe\">\n",
       "  <thead>\n",
       "    <tr style=\"text-align: right;\">\n",
       "      <th></th>\n",
       "      <th>filename</th>\n",
       "      <th>children_1</th>\n",
       "      <th>children_2</th>\n",
       "      <th>children_3</th>\n",
       "      <th>file</th>\n",
       "      <th>image_id</th>\n",
       "      <th>caption</th>\n",
       "    </tr>\n",
       "  </thead>\n",
       "  <tbody>\n",
       "    <tr>\n",
       "      <th>0</th>\n",
       "      <td>10128.json</td>\n",
       "      <td>7</td>\n",
       "      <td>13</td>\n",
       "      <td>0</td>\n",
       "      <td>10128</td>\n",
       "      <td>10128</td>\n",
       "      <td>This screenshot looks like a list screen with ...</td>\n",
       "    </tr>\n",
       "    <tr>\n",
       "      <th>1</th>\n",
       "      <td>10183.json</td>\n",
       "      <td>2</td>\n",
       "      <td>2</td>\n",
       "      <td>0</td>\n",
       "      <td>10183</td>\n",
       "      <td>10183</td>\n",
       "      <td>This image is unknown.</td>\n",
       "    </tr>\n",
       "    <tr>\n",
       "      <th>2</th>\n",
       "      <td>10214.json</td>\n",
       "      <td>5</td>\n",
       "      <td>2</td>\n",
       "      <td>0</td>\n",
       "      <td>10214</td>\n",
       "      <td>10214</td>\n",
       "      <td>The interface looks like a login screen with a...</td>\n",
       "    </tr>\n",
       "    <tr>\n",
       "      <th>3</th>\n",
       "      <td>10498.json</td>\n",
       "      <td>14</td>\n",
       "      <td>15</td>\n",
       "      <td>20</td>\n",
       "      <td>10498</td>\n",
       "      <td>10498</td>\n",
       "      <td>A gallery app with a large image component ubi...</td>\n",
       "    </tr>\n",
       "    <tr>\n",
       "      <th>4</th>\n",
       "      <td>10544.json</td>\n",
       "      <td>10</td>\n",
       "      <td>8</td>\n",
       "      <td>0</td>\n",
       "      <td>10544</td>\n",
       "      <td>10544</td>\n",
       "      <td>That interface must be a settings screen with ...</td>\n",
       "    </tr>\n",
       "    <tr>\n",
       "      <th>...</th>\n",
       "      <td>...</td>\n",
       "      <td>...</td>\n",
       "      <td>...</td>\n",
       "      <td>...</td>\n",
       "      <td>...</td>\n",
       "      <td>...</td>\n",
       "      <td>...</td>\n",
       "    </tr>\n",
       "    <tr>\n",
       "      <th>264</th>\n",
       "      <td>9075.json</td>\n",
       "      <td>4</td>\n",
       "      <td>13</td>\n",
       "      <td>12</td>\n",
       "      <td>9075</td>\n",
       "      <td>9075</td>\n",
       "      <td>The app must be a bare app with a large image ...</td>\n",
       "    </tr>\n",
       "    <tr>\n",
       "      <th>265</th>\n",
       "      <td>9371.json</td>\n",
       "      <td>2</td>\n",
       "      <td>0</td>\n",
       "      <td>0</td>\n",
       "      <td>9371</td>\n",
       "      <td>9371</td>\n",
       "      <td>That screenshot is unknown.</td>\n",
       "    </tr>\n",
       "    <tr>\n",
       "      <th>266</th>\n",
       "      <td>9735.json</td>\n",
       "      <td>11</td>\n",
       "      <td>23</td>\n",
       "      <td>0</td>\n",
       "      <td>9735</td>\n",
       "      <td>9735</td>\n",
       "      <td>That screenshot looks like a list app with a t...</td>\n",
       "    </tr>\n",
       "    <tr>\n",
       "      <th>267</th>\n",
       "      <td>9895.json</td>\n",
       "      <td>2</td>\n",
       "      <td>5</td>\n",
       "      <td>0</td>\n",
       "      <td>9895</td>\n",
       "      <td>9895</td>\n",
       "      <td>This interface must be a bare app with an icon...</td>\n",
       "    </tr>\n",
       "    <tr>\n",
       "      <th>268</th>\n",
       "      <td>9910.json</td>\n",
       "      <td>11</td>\n",
       "      <td>1</td>\n",
       "      <td>0</td>\n",
       "      <td>9910</td>\n",
       "      <td>9910</td>\n",
       "      <td>The app must be a settings screen having a lar...</td>\n",
       "    </tr>\n",
       "  </tbody>\n",
       "</table>\n",
       "<p>269 rows × 7 columns</p>\n",
       "</div>"
      ],
      "text/plain": [
       "       filename  children_1  children_2  children_3   file  image_id  \\\n",
       "0    10128.json           7          13           0  10128     10128   \n",
       "1    10183.json           2           2           0  10183     10183   \n",
       "2    10214.json           5           2           0  10214     10214   \n",
       "3    10498.json          14          15          20  10498     10498   \n",
       "4    10544.json          10           8           0  10544     10544   \n",
       "..          ...         ...         ...         ...    ...       ...   \n",
       "264   9075.json           4          13          12   9075      9075   \n",
       "265   9371.json           2           0           0   9371      9371   \n",
       "266   9735.json          11          23           0   9735      9735   \n",
       "267   9895.json           2           5           0   9895      9895   \n",
       "268   9910.json          11           1           0   9910      9910   \n",
       "\n",
       "                                               caption  \n",
       "0    This screenshot looks like a list screen with ...  \n",
       "1                               This image is unknown.  \n",
       "2    The interface looks like a login screen with a...  \n",
       "3    A gallery app with a large image component ubi...  \n",
       "4    That interface must be a settings screen with ...  \n",
       "..                                                 ...  \n",
       "264  The app must be a bare app with a large image ...  \n",
       "265                        That screenshot is unknown.  \n",
       "266  That screenshot looks like a list app with a t...  \n",
       "267  This interface must be a bare app with an icon...  \n",
       "268  The app must be a settings screen having a lar...  \n",
       "\n",
       "[269 rows x 7 columns]"
      ]
     },
     "execution_count": 216,
     "metadata": {},
     "output_type": "execute_result"
    }
   ],
   "source": [
    "# Caption with JSON Match\n",
    "pd.merge(pd_descriptive, descriptions, left_on='file', right_on='image_id')"
   ]
  }
 ],
 "metadata": {
  "kernelspec": {
   "display_name": "Python 3 (ipykernel)",
   "language": "python",
   "name": "python3"
  },
  "language_info": {
   "codemirror_mode": {
    "name": "ipython",
    "version": 3
   },
   "file_extension": ".py",
   "mimetype": "text/x-python",
   "name": "python",
   "nbconvert_exporter": "python",
   "pygments_lexer": "ipython3",
   "version": "3.10.7"
  }
 },
 "nbformat": 4,
 "nbformat_minor": 5
}
