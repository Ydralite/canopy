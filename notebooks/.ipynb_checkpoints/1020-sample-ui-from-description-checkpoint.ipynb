{
 "cells": [
  {
   "cell_type": "markdown",
   "id": "dea391da-b348-4ec8-bebb-206310a6096d",
   "metadata": {},
   "source": [
    "# Import"
   ]
  },
  {
   "cell_type": "code",
   "execution_count": 6,
   "id": "aa98bac9-411e-4af1-acf7-b865d81457aa",
   "metadata": {},
   "outputs": [],
   "source": [
    "# base stack\n",
    "import os\n",
    "import pickle\n",
    "import json\n",
    "import pandas as pd\n",
    "import matplotlib.pyplot as plt\n",
    "\n",
    "# custom made functions and Load environment variables from .env file\n",
    "from dotenv import load_dotenv\n",
    "import sys\n",
    "sys.path.insert(1, '..\\\\')\n",
    "from utils.funcs import JSONLoader\n",
    "from utils.funcs import JSONDocLoader\n",
    "from utils import metadata\n",
    "load_dotenv()\n",
    "\n",
    "#langchain stack \n",
    "## OpenAI + OpenAIEmbeddings\n",
    "from langchain_openai import OpenAI\n",
    "from langchain_openai import OpenAIEmbeddings\n",
    "from langchain_openai import ChatOpenAI\n",
    "## Vector Store\n",
    "from langchain_community.vectorstores import Chroma\n",
    "## Loader\n",
    "from langchain.text_splitter import CharacterTextSplitter\n",
    "from langchain_community.document_loaders import TextLoader\n",
    "## Retriever\n",
    "from langchain.retrievers.self_query.base import SelfQueryRetriever\n",
    "\n",
    "# Retrieve the API key and instanciate client\n",
    "openai_api_key = os.getenv(\"OPENAI_API_KEY\")\n",
    "client = OpenAI(api_key = openai_api_key)\n",
    "\n",
    "# create the open-source embedding function\n",
    "embedding_function = OpenAIEmbeddings()"
   ]
  },
  {
   "cell_type": "code",
   "execution_count": 7,
   "id": "d15036d3-8444-4eff-b366-a868f0fed70e",
   "metadata": {},
   "outputs": [],
   "source": [
    "PATH_HIERARCHIES = \"../hierarchies/\""
   ]
  },
  {
   "cell_type": "markdown",
   "id": "555da932-a15b-44c2-b71a-23b2960c8dac",
   "metadata": {},
   "source": [
    "# Load Data"
   ]
  },
  {
   "cell_type": "code",
   "execution_count": 8,
   "id": "411033d9-23ba-4874-bb03-d0fad9ba94a6",
   "metadata": {},
   "outputs": [],
   "source": [
    "# Load the list from a file using pickle\n",
    "with open('..\\output\\jsons_metadata.pkl', 'rb') as file:\n",
    "    jsons = pickle.load(file)"
   ]
  },
  {
   "cell_type": "code",
   "execution_count": 9,
   "id": "bdc5d3b5-1ccf-4ace-994f-b6dc261df51f",
   "metadata": {},
   "outputs": [],
   "source": [
    "# Load descriptions\n",
    "descriptions = pd.read_csv('../enrico/xui-caption.csv', sep='\\t')"
   ]
  },
  {
   "cell_type": "code",
   "execution_count": 10,
   "id": "a8e28e61-94b0-413f-a71f-38647cc1dc7d",
   "metadata": {},
   "outputs": [],
   "source": [
    "# Create a matching file to caption dataset for later performance evaluation\n",
    "json_descriptive = []\n",
    "for item in jsons:\n",
    "    new_json = {key: item[key] \n",
    "                     for key in ['filename', 'topic']}\n",
    "    json_descriptive.append(new_json)\n",
    "\n",
    "pd_descriptive = pd.DataFrame.from_dict(json_descriptive)\n",
    "descriptions = pd.read_csv('../enrico/xui-caption.csv', sep='\\t')\n",
    "pd_descriptive['file'] = pd_descriptive['filename'].map(lambda x: int(x.replace('.json','')))\n",
    "file_caption = pd.merge(pd_descriptive, descriptions, left_on='file', right_on='image_id')"
   ]
  },
  {
   "cell_type": "code",
   "execution_count": 11,
   "id": "07c32b8e-5225-4ee4-8c1e-9c2bf26df02e",
   "metadata": {},
   "outputs": [
    {
     "data": {
      "text/html": [
       "<div>\n",
       "<style scoped>\n",
       "    .dataframe tbody tr th:only-of-type {\n",
       "        vertical-align: middle;\n",
       "    }\n",
       "\n",
       "    .dataframe tbody tr th {\n",
       "        vertical-align: top;\n",
       "    }\n",
       "\n",
       "    .dataframe thead th {\n",
       "        text-align: right;\n",
       "    }\n",
       "</style>\n",
       "<table border=\"1\" class=\"dataframe\">\n",
       "  <thead>\n",
       "    <tr style=\"text-align: right;\">\n",
       "      <th></th>\n",
       "      <th>filename</th>\n",
       "      <th>topic</th>\n",
       "      <th>file</th>\n",
       "      <th>image_id</th>\n",
       "      <th>caption</th>\n",
       "    </tr>\n",
       "  </thead>\n",
       "  <tbody>\n",
       "    <tr>\n",
       "      <th>0</th>\n",
       "      <td>10128.json</td>\n",
       "      <td>list</td>\n",
       "      <td>10128</td>\n",
       "      <td>10128</td>\n",
       "      <td>This screenshot looks like a list screen with ...</td>\n",
       "    </tr>\n",
       "    <tr>\n",
       "      <th>1</th>\n",
       "      <td>10183.json</td>\n",
       "      <td>bare</td>\n",
       "      <td>10183</td>\n",
       "      <td>10183</td>\n",
       "      <td>This image is unknown.</td>\n",
       "    </tr>\n",
       "    <tr>\n",
       "      <th>2</th>\n",
       "      <td>10214.json</td>\n",
       "      <td>login</td>\n",
       "      <td>10214</td>\n",
       "      <td>10214</td>\n",
       "      <td>The interface looks like a login screen with a...</td>\n",
       "    </tr>\n",
       "    <tr>\n",
       "      <th>3</th>\n",
       "      <td>10498.json</td>\n",
       "      <td>gallery</td>\n",
       "      <td>10498</td>\n",
       "      <td>10498</td>\n",
       "      <td>A gallery app with a large image component ubi...</td>\n",
       "    </tr>\n",
       "    <tr>\n",
       "      <th>4</th>\n",
       "      <td>10544.json</td>\n",
       "      <td>search</td>\n",
       "      <td>10544</td>\n",
       "      <td>10544</td>\n",
       "      <td>That interface must be a settings screen with ...</td>\n",
       "    </tr>\n",
       "  </tbody>\n",
       "</table>\n",
       "</div>"
      ],
      "text/plain": [
       "     filename    topic   file  image_id  \\\n",
       "0  10128.json     list  10128     10128   \n",
       "1  10183.json     bare  10183     10183   \n",
       "2  10214.json    login  10214     10214   \n",
       "3  10498.json  gallery  10498     10498   \n",
       "4  10544.json   search  10544     10544   \n",
       "\n",
       "                                             caption  \n",
       "0  This screenshot looks like a list screen with ...  \n",
       "1                             This image is unknown.  \n",
       "2  The interface looks like a login screen with a...  \n",
       "3  A gallery app with a large image component ubi...  \n",
       "4  That interface must be a settings screen with ...  "
      ]
     },
     "execution_count": 11,
     "metadata": {},
     "output_type": "execute_result"
    }
   ],
   "source": [
    "file_caption.head()"
   ]
  },
  {
   "cell_type": "markdown",
   "id": "05407efa-4ca5-4c46-988c-5f0dc8289cc2",
   "metadata": {},
   "source": [
    "# Set-up"
   ]
  },
  {
   "cell_type": "markdown",
   "id": "3d0682d4-a0ee-4a01-b211-87b68ef040eb",
   "metadata": {},
   "source": [
    "### Create Vector Store"
   ]
  },
  {
   "cell_type": "code",
   "execution_count": 78,
   "id": "33bf88b9-b12b-4092-82c2-91aa71294969",
   "metadata": {},
   "outputs": [],
   "source": [
    "# load the document and split it into chunks\n",
    "json_dict = {'hierarchies':jsons}\n",
    "loader = JSONDocLoader(file=json_dict)\n",
    "documents = loader.load()\n",
    "\n",
    "# split it into chunks\n",
    "text_splitter = CharacterTextSplitter(chunk_size=4000, chunk_overlap=0)\n",
    "docs = text_splitter.split_documents(documents)\n",
    "\n",
    "## load it into Chroma\n",
    "db = Chroma.from_documents(docs, embedding_function, persist_directory=\"../chroma_db_chunkier\")"
   ]
  },
  {
   "cell_type": "markdown",
   "id": "cea559df-964b-4f7d-a3f1-f60ebcad77d2",
   "metadata": {},
   "source": [
    "### Load Vector Store"
   ]
  },
  {
   "cell_type": "code",
   "execution_count": 13,
   "id": "6e0930e3-8892-475d-93c2-8e106e77ccc0",
   "metadata": {},
   "outputs": [],
   "source": [
    "# load it into Chroma\n",
    "db = Chroma(persist_directory=\"../chroma_db_chunkier\", embedding_function=embedding_function)"
   ]
  },
  {
   "cell_type": "code",
   "execution_count": 14,
   "id": "abf0b76f-6f26-4eca-b764-bcabf26a6c2f",
   "metadata": {},
   "outputs": [],
   "source": [
    "# Load metadata\n",
    "metadata_field_info, document_content_description = metadata.info()\n",
    "\n",
    "# initiate retriever to generate 20 results, with the most similar Hierarchy Tree Structures\n",
    "llm = ChatOpenAI(temperature=0.0)\n",
    "retriever = SelfQueryRetriever.from_llm(\n",
    "    llm,\n",
    "    db,\n",
    "    document_content_description,\n",
    "    metadata_field_info,\n",
    "    search_kwargs={\"k\": 20}\n",
    ")"
   ]
  },
  {
   "cell_type": "markdown",
   "id": "568bdd85-fa90-40fc-963f-c5bf845a1331",
   "metadata": {},
   "source": [
    "# LLM"
   ]
  },
  {
   "cell_type": "markdown",
   "id": "6175f71c-618b-493a-8292-21a4d3b2be4e",
   "metadata": {},
   "source": [
    "## Single Shot Test"
   ]
  },
  {
   "cell_type": "code",
   "execution_count": 21,
   "id": "968996fa-b0fd-4a6c-b830-0e1a5b25f761",
   "metadata": {},
   "outputs": [
    {
     "name": "stdout",
     "output_type": "stream",
     "text": [
      "login\n",
      "70342.json\n",
      "tutorial\n",
      "71314.json\n",
      "login\n",
      "71317.json\n",
      "login\n",
      "7450.json\n",
      "login\n",
      "72186.json\n"
     ]
    }
   ],
   "source": [
    "results = retriever.invoke(\"I want a Login-like UI\")\n",
    "for result in results[:5]:\n",
    "    print(result.metadata['topic'])\n",
    "    print(result.metadata['filename'])"
   ]
  },
  {
   "cell_type": "markdown",
   "id": "33b97647-0413-496a-996a-7189f43ec55a",
   "metadata": {},
   "source": [
    "# Caption Test"
   ]
  },
  {
   "cell_type": "code",
   "execution_count": null,
   "id": "e08ee354-952c-425a-b2fc-828a52483a7e",
   "metadata": {
    "scrolled": true
   },
   "outputs": [],
   "source": [
    "performance = []\n",
    "for index, row in file_caption.iterrows():\n",
    "    results =  retriever.invoke(row['caption'])\n",
    "    matched = -1\n",
    "    topic = 0\n",
    "    for item in results:\n",
    "        if item.metadata['filename'] == row['filename']:\n",
    "            matched = results.index(item)\n",
    "        if item.metadata['topic'] == row['topic']:\n",
    "            topic+=1\n",
    "    performance.append([len(results), matched, topic])\n",
    "    print([len(results), matched, topic])"
   ]
  },
  {
   "cell_type": "code",
   "execution_count": 122,
   "id": "3a435164-82ce-4a2c-9365-cb4515ca2615",
   "metadata": {},
   "outputs": [],
   "source": [
    "performance = pd.DataFrame(performance, columns = ['Results', 'Exact Match Position', 'Topic Match'])"
   ]
  },
  {
   "cell_type": "code",
   "execution_count": 132,
   "id": "ad216050-0d5f-4c10-a625-3b10fc6d808e",
   "metadata": {},
   "outputs": [
    {
     "data": {
      "text/plain": [
       "16"
      ]
     },
     "execution_count": 132,
     "metadata": {},
     "output_type": "execute_result"
    }
   ],
   "source": [
    "# From the ~250 examples, how many match the json file in the top 20 displays?\n",
    "performance[performance['Exact Match Position']>=0].shape[0]"
   ]
  },
  {
   "cell_type": "code",
   "execution_count": 133,
   "id": "8cd76a02-5ddc-4a79-aa71-86c7db693abc",
   "metadata": {},
   "outputs": [
    {
     "data": {
      "image/png": "[encoded data removed]",
      "text/plain": [
       "<Figure size 640x480 with 1 Axes>"
      ]
     },
     "metadata": {},
     "output_type": "display_data"
    }
   ],
   "source": [
    "performance['Topic Match'].value_counts().sort_index().plot(kind='bar')\n",
    "plt.show()"
   ]
  },
  {
   "cell_type": "code",
   "execution_count": 134,
   "id": "436e6969-4034-4fbe-a414-7274949166c8",
   "metadata": {},
   "outputs": [
    {
     "data": {
      "text/plain": [
       "2.5055762081784385"
      ]
     },
     "execution_count": 134,
     "metadata": {},
     "output_type": "execute_result"
    }
   ],
   "source": [
    "# From the top 20, how many match the topic?\n",
    "performance['Topic Match'].mean()"
   ]
  },
  {
   "cell_type": "code",
   "execution_count": null,
   "id": "5093993d-7b85-4ca5-87bf-0c4055518bfe",
   "metadata": {},
   "outputs": [],
   "source": []
  }
 ],
 "metadata": {
  "kernelspec": {
   "display_name": "Python 3 (ipykernel)",
   "language": "python",
   "name": "python3"
  },
  "language_info": {
   "codemirror_mode": {
    "name": "ipython",
    "version": 3
   },
   "file_extension": ".py",
   "mimetype": "text/x-python",
   "name": "python",
   "nbconvert_exporter": "python",
   "pygments_lexer": "ipython3",
   "version": "3.10.7"
  }
 },
 "nbformat": 4,
 "nbformat_minor": 5
}
